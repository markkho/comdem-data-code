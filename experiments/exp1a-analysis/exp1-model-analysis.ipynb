{
 "cells": [
  {
   "cell_type": "code",
   "execution_count": 1,
   "metadata": {},
   "outputs": [],
   "source": [
    "import pandas as pd\n",
    "import numpy as np\n",
    "import seaborn as sns\n",
    "import scipy\n",
    "import matplotlib.pyplot as plt\n",
    "\n",
    "from statsmodels.stats.proportion import proportions_ztest"
   ]
  },
  {
   "cell_type": "code",
   "execution_count": 2,
   "metadata": {},
   "outputs": [],
   "source": [
    "standard_pfits = pd.read_pickle('./gridsearch-results/standard-participant_fits.pd.pkl')\n",
    "obmdp_pfits = pd.read_pickle('./gridsearch-results/obmdp-participant_fits.pd.pkl')\n",
    "main_df = pd.read_pickle('../data/exp1-main.pd.pkl')\n",
    "obmdp_pfits = main_df[['cond', 'participant']].merge(\n",
    "        obmdp_pfits, on='participant')"
   ]
  },
  {
   "cell_type": "code",
   "execution_count": 3,
   "metadata": {},
   "outputs": [],
   "source": [
    "exp1_trials = pd.read_pickle('../data/exp1-demon_trajs.pd.pkl')\n",
    "exp1_trials['traj_len'] = exp1_trials['traj'].apply(lambda t: len(t))"
   ]
  },
  {
   "cell_type": "code",
   "execution_count": 4,
   "metadata": {},
   "outputs": [],
   "source": [
    "sns.set_palette(sns.color_palette([\n",
    "    '#0072b2', '#009e73','#d55e00',  '#cc79a7', '#f0e442', '#56b4e9'\n",
    "]))"
   ]
  },
  {
   "cell_type": "markdown",
   "metadata": {},
   "source": [
    "# Modeling Parameters"
   ]
  },
  {
   "cell_type": "code",
   "execution_count": 13,
   "metadata": {},
   "outputs": [],
   "source": [
    "#parameter space\n",
    "do_discount = [.8, .85, .9, .95, .99, .9999]\n",
    "do_randchoose = [0.0, .025, .05, .075, .1, .125, .15, .175, .2]\n",
    "do_temp = [.1, .2, .4, .6, .8, 1.0, 1.5, 2.0, 2.5, 3.0, 3.5, 4.0, 5.0]\n",
    "\n",
    "true_mdp_code = ['ooo', 'xoo', 'oxo', 'oox', 'xxo', 'xox', 'oxx', 'xxx']\n",
    "show_discount = [.8, .85, .9, .95, .99]\n",
    "show_reward = [0, 1, 2, 3, 4, 5, 6, 7, 8, 9, 10, 15, 20, 25]\n",
    "\n",
    "show_randchoose = [.01, .02, .03, .04, .05, .06, .07, .08, .09,\n",
    "                   .1, .2, .3]\n",
    "show_temp = [0.01, .05, .1, .15, .2, .25,\n",
    "             .3, .35, .4, .45, .5, .75, 1.0,\n",
    "             2.0, 3.0, 4.0, 5.0, 6.0]"
   ]
  },
  {
   "cell_type": "markdown",
   "metadata": {},
   "source": [
    "# Condition-wise tests"
   ]
  },
  {
   "cell_type": "code",
   "execution_count": 14,
   "metadata": {},
   "outputs": [],
   "source": [
    "pfits_comparison = \\\n",
    "    obmdp_pfits[['cond', 'participant', 'loglikelihood']].\\\n",
    "    merge(\n",
    "        standard_pfits, on='participant', \n",
    "        suffixes=('_obmdp', '_standard')\n",
    "    )\n",
    "    \n",
    "cond_steps = exp1_trials.groupby(['cond', 'participant'])\\\n",
    "    ['traj_len'].sum().reset_index()\n",
    "cond_steps = cond_steps.rename(columns={'traj_len': 'n_steps'})\n",
    "\n",
    "pfits_comparison = pfits_comparison.merge(cond_steps,\n",
    "                                          on=['cond', 'participant'])"
   ]
  },
  {
   "cell_type": "markdown",
   "metadata": {},
   "source": [
    "## Log-likelihood ratio test"
   ]
  },
  {
   "cell_type": "code",
   "execution_count": 15,
   "metadata": {},
   "outputs": [],
   "source": [
    "def calc_chi2_pval(LLR_test_stat, df):\n",
    "    return scipy.stats.chi2.sf(x=LLR_test_stat, df=df)"
   ]
  },
  {
   "cell_type": "code",
   "execution_count": 16,
   "metadata": {},
   "outputs": [
    {
     "data": {
      "text/html": [
       "<div>\n",
       "<style scoped>\n",
       "    .dataframe tbody tr th:only-of-type {\n",
       "        vertical-align: middle;\n",
       "    }\n",
       "\n",
       "    .dataframe tbody tr th {\n",
       "        vertical-align: top;\n",
       "    }\n",
       "\n",
       "    .dataframe thead th {\n",
       "        text-align: right;\n",
       "    }\n",
       "</style>\n",
       "<table border=\"1\" class=\"dataframe\">\n",
       "  <thead>\n",
       "    <tr style=\"text-align: right;\">\n",
       "      <th></th>\n",
       "      <th>loglikelihood_obmdp</th>\n",
       "      <th>loglikelihood_standard</th>\n",
       "      <th>df_diff</th>\n",
       "      <th>LLR_test_stat</th>\n",
       "      <th>p_value</th>\n",
       "    </tr>\n",
       "    <tr>\n",
       "      <th>cond</th>\n",
       "      <th></th>\n",
       "      <th></th>\n",
       "      <th></th>\n",
       "      <th></th>\n",
       "      <th></th>\n",
       "    </tr>\n",
       "  </thead>\n",
       "  <tbody>\n",
       "    <tr>\n",
       "      <th>do</th>\n",
       "      <td>-513.674552</td>\n",
       "      <td>-564.065104</td>\n",
       "      <td>87</td>\n",
       "      <td>100.781104</td>\n",
       "      <td>1.482178e-01</td>\n",
       "    </tr>\n",
       "    <tr>\n",
       "      <th>show</th>\n",
       "      <td>-1453.912332</td>\n",
       "      <td>-1649.711768</td>\n",
       "      <td>87</td>\n",
       "      <td>391.598873</td>\n",
       "      <td>3.233852e-40</td>\n",
       "    </tr>\n",
       "  </tbody>\n",
       "</table>\n",
       "</div>"
      ],
      "text/plain": [
       "      loglikelihood_obmdp  loglikelihood_standard  df_diff  LLR_test_stat  \\\n",
       "cond                                                                        \n",
       "do            -513.674552             -564.065104       87     100.781104   \n",
       "show         -1453.912332            -1649.711768       87     391.598873   \n",
       "\n",
       "           p_value  \n",
       "cond                \n",
       "do    1.482178e-01  \n",
       "show  3.233852e-40  "
      ]
     },
     "execution_count": 16,
     "metadata": {},
     "output_type": "execute_result"
    }
   ],
   "source": [
    "pfits_comparison['obmdp_df'] = 7\n",
    "pfits_comparison['standard_df'] = 4\n",
    "pfits_comparison['df_diff'] = \\\n",
    "    pfits_comparison['obmdp_df'] - pfits_comparison['standard_df']\n",
    "\n",
    "    \n",
    "cond_loglike = pfits_comparison.groupby('cond')\\\n",
    "    [['loglikelihood_obmdp', 'loglikelihood_standard', \n",
    "      'n_steps', 'obmdp_df', 'standard_df', 'df_diff']].sum()\n",
    "\n",
    "cond_loglike['LLR_test_stat'] = \\\n",
    "    2*(cond_loglike['loglikelihood_obmdp'] \n",
    "       - cond_loglike['loglikelihood_standard'])\n",
    "\n",
    "cond_loglike['p_value'] = cond_loglike.apply(\n",
    "    lambda r: calc_chi2_pval(r['LLR_test_stat'], r['df_diff']), \n",
    "    axis=1)\n",
    "cond_loglike[['loglikelihood_obmdp', \n",
    "              'loglikelihood_standard',\n",
    "              'df_diff',\n",
    "              'LLR_test_stat',\n",
    "              'p_value']]"
   ]
  },
  {
   "cell_type": "markdown",
   "metadata": {},
   "source": [
    "### Bootstrap technique"
   ]
  },
  {
   "cell_type": "code",
   "execution_count": 17,
   "metadata": {},
   "outputs": [
    {
     "data": {
      "text/html": [
       "<div>\n",
       "<style scoped>\n",
       "    .dataframe tbody tr th:only-of-type {\n",
       "        vertical-align: middle;\n",
       "    }\n",
       "\n",
       "    .dataframe tbody tr th {\n",
       "        vertical-align: top;\n",
       "    }\n",
       "\n",
       "    .dataframe thead th {\n",
       "        text-align: right;\n",
       "    }\n",
       "</style>\n",
       "<table border=\"1\" class=\"dataframe\">\n",
       "  <thead>\n",
       "    <tr style=\"text-align: right;\">\n",
       "      <th></th>\n",
       "      <th>mean</th>\n",
       "      <th>std</th>\n",
       "    </tr>\n",
       "    <tr>\n",
       "      <th>cond</th>\n",
       "      <th></th>\n",
       "      <th></th>\n",
       "    </tr>\n",
       "  </thead>\n",
       "  <tbody>\n",
       "    <tr>\n",
       "      <th>do</th>\n",
       "      <td>3.475210</td>\n",
       "      <td>4.629877</td>\n",
       "    </tr>\n",
       "    <tr>\n",
       "      <th>show</th>\n",
       "      <td>13.503409</td>\n",
       "      <td>8.781122</td>\n",
       "    </tr>\n",
       "  </tbody>\n",
       "</table>\n",
       "</div>"
      ],
      "text/plain": [
       "           mean       std\n",
       "cond                     \n",
       "do     3.475210  4.629877\n",
       "show  13.503409  8.781122"
      ]
     },
     "execution_count": 17,
     "metadata": {},
     "output_type": "execute_result"
    }
   ],
   "source": [
    "pfits_comparison['LLR_test_stat'] = \\\n",
    "    2*(pfits_comparison['loglikelihood_obmdp'] - \n",
    "       pfits_comparison['loglikelihood_standard'])\n",
    "\n",
    "# randomly re-label the samples\n",
    "# and calculate the new difference in means\n",
    "def gen_reordered_sample(pooled, size1, size2):\n",
    "    np.random.shuffle(pooled)\n",
    "    new1 = pooled[:size1]\n",
    "    new2 = pooled[-size2:]\n",
    "    return new1.mean() - new2.mean()\n",
    "\n",
    "pooled = pfits_comparison['LLR_test_stat'].copy()\n",
    "counts = tuple(pfits_comparison.groupby('cond')['participant'].count())\n",
    "\n",
    "np.random.seed(1234)\n",
    "n_samples = 10000\n",
    "estimates = [gen_reordered_sample(pooled, *counts) for _ in range(n_samples)]\n",
    "estimates = np.array(estimates)\n",
    "\n",
    "pfits_comparison.groupby('cond')['LLR_test_stat'].aggregate(['mean', 'std'])"
   ]
  },
  {
   "cell_type": "code",
   "execution_count": 18,
   "metadata": {},
   "outputs": [
    {
     "name": "stdout",
     "output_type": "stream",
     "text": [
      "cond\n",
      "do       3.475210\n",
      "show    13.503409\n",
      "Name: LLR_test_stat, dtype: float64\n",
      "-10.028198928993472\n",
      "9.999000099990002e-05\n"
     ]
    }
   ],
   "source": [
    "# This takes a minute\n",
    "mean_LLR_test_stats = pfits_comparison.groupby('cond')['LLR_test_stat'].mean()\n",
    "mean_diff = mean_LLR_test_stats['do'] - mean_LLR_test_stats['show']\n",
    "print(mean_LLR_test_stats)\n",
    "print(mean_diff)\n",
    "print(((estimates < mean_diff).sum() + 1)/(len(estimates) + 1))"
   ]
  },
  {
   "cell_type": "code",
   "execution_count": 19,
   "metadata": {},
   "outputs": [
    {
     "data": {
      "image/png": "[encoded data removed]",
      "text/plain": [
       "<matplotlib.figure.Figure at 0x1a13db15c0>"
      ]
     },
     "metadata": {
      "needs_background": "light"
     },
     "output_type": "display_data"
    }
   ],
   "source": [
    "ax = sns.distplot(estimates)\n"
   ]
  },
  {
   "cell_type": "code",
   "execution_count": 21,
   "metadata": {},
   "outputs": [
    {
     "data": {
      "image/png": "[encoded data removed]",
      "text/plain": [
       "<matplotlib.figure.Figure at 0x1a1417ccc0>"
      ]
     },
     "metadata": {
      "needs_background": "light"
     },
     "output_type": "display_data"
    }
   ],
   "source": [
    "fig, ax = plt.subplots(figsize=(8, 5))\n",
    "ax = sns.swarmplot(\n",
    "    ax=ax,\n",
    "    data=pfits_comparison,\n",
    "    y='LLR_test_stat',\n",
    "    x='cond',\n",
    "    color=\"black\",\n",
    "    edgecolor=\"white\",\n",
    "    size=10,\n",
    "    order=[\"do\", \"show\"]\n",
    ")\n",
    "sns.boxplot(\n",
    "    ax=ax,\n",
    "    data=pfits_comparison,\n",
    "    y='LLR_test_stat',\n",
    "    x='cond',\n",
    "    order=[\"do\", \"show\"]\n",
    ")\n",
    "ax.set_ylabel(\"Log-likelihood\\nRatio\\nTest\\nStatistic\", \n",
    "              fontsize=20,\n",
    "              family='serif',\n",
    "              rotation=0, \n",
    "              labelpad=80,\n",
    "              va='center')\n",
    "plt.setp(ax.get_yticklabels(), \n",
    "         fontsize=14, family='serif')\n",
    "_ = ax.set_xticklabels([\"Do\", \"Show\"],\n",
    "                       fontsize=17, family='serif')\n",
    "_ = ax.set_xlabel(\"Experimental\\nCondition\",\n",
    "                  fontsize=20, family='serif')\n",
    "plt.tight_layout()\n",
    "\n",
    "colors = [\"#92C5DE\", \"#4DAC26\"]\n",
    "for color, box in zip(colors, ax.artists):\n",
    "    box.set_facecolor(color)\n",
    "    \n",
    "plt.savefig('./_figures/condition_teststats.eps')"
   ]
  },
  {
   "cell_type": "code",
   "execution_count": 207,
   "metadata": {},
   "outputs": [
    {
     "data": {
      "text/plain": [
       "cond\n",
       "do       3.475210\n",
       "show    13.503409\n",
       "Name: LLR_test_stat, dtype: float64"
      ]
     },
     "execution_count": 207,
     "metadata": {},
     "output_type": "execute_result"
    }
   ],
   "source": [
    "pfits_comparison.groupby('cond')['LLR_test_stat'].mean()"
   ]
  },
  {
   "cell_type": "markdown",
   "metadata": {},
   "source": [
    "# Parameter Analysis"
   ]
  },
  {
   "cell_type": "code",
   "execution_count": 35,
   "metadata": {},
   "outputs": [
    {
     "data": {
      "text/html": [
       "<div>\n",
       "<style scoped>\n",
       "    .dataframe tbody tr th:only-of-type {\n",
       "        vertical-align: middle;\n",
       "    }\n",
       "\n",
       "    .dataframe tbody tr th {\n",
       "        vertical-align: top;\n",
       "    }\n",
       "\n",
       "    .dataframe thead th {\n",
       "        text-align: right;\n",
       "    }\n",
       "</style>\n",
       "<table border=\"1\" class=\"dataframe\">\n",
       "  <thead>\n",
       "    <tr style=\"text-align: right;\">\n",
       "      <th>cond</th>\n",
       "      <th>do</th>\n",
       "      <th>show</th>\n",
       "    </tr>\n",
       "  </thead>\n",
       "  <tbody>\n",
       "    <tr>\n",
       "      <th>do_discount</th>\n",
       "      <td>0.96 (0.01)</td>\n",
       "      <td>0.93 (0.01)</td>\n",
       "    </tr>\n",
       "    <tr>\n",
       "      <th>do_randchoose</th>\n",
       "      <td>0.12 (0.02)</td>\n",
       "      <td>0.09 (0.01)</td>\n",
       "    </tr>\n",
       "    <tr>\n",
       "      <th>do_temp</th>\n",
       "      <td>2.20 (0.25)</td>\n",
       "      <td>1.64 (0.25)</td>\n",
       "    </tr>\n",
       "    <tr>\n",
       "      <th>show_reward</th>\n",
       "      <td>2.55 (0.74)</td>\n",
       "      <td>5.31 (1.35)</td>\n",
       "    </tr>\n",
       "    <tr>\n",
       "      <th>show_discount</th>\n",
       "      <td>0.93 (0.01)</td>\n",
       "      <td>0.93 (0.01)</td>\n",
       "    </tr>\n",
       "    <tr>\n",
       "      <th>show_randchoose</th>\n",
       "      <td>0.04 (0.01)</td>\n",
       "      <td>0.05 (0.01)</td>\n",
       "    </tr>\n",
       "    <tr>\n",
       "      <th>show_temp</th>\n",
       "      <td>0.15 (0.03)</td>\n",
       "      <td>0.22 (0.04)</td>\n",
       "    </tr>\n",
       "  </tbody>\n",
       "</table>\n",
       "</div>"
      ],
      "text/plain": [
       "cond                      do         show\n",
       "do_discount      0.96 (0.01)  0.93 (0.01)\n",
       "do_randchoose    0.12 (0.02)  0.09 (0.01)\n",
       "do_temp          2.20 (0.25)  1.64 (0.25)\n",
       "show_reward      2.55 (0.74)  5.31 (1.35)\n",
       "show_discount    0.93 (0.01)  0.93 (0.01)\n",
       "show_randchoose  0.04 (0.01)  0.05 (0.01)\n",
       "show_temp        0.15 (0.03)  0.22 (0.04)"
      ]
     },
     "execution_count": 35,
     "metadata": {},
     "output_type": "execute_result"
    }
   ],
   "source": [
    "param_fits = obmdp_pfits.groupby('cond').agg(['median', 'mean', 'sem'])\n",
    "param_fits_dict = []\n",
    "for cond, row in param_fits.iterrows():\n",
    "    row_dict = {}\n",
    "    for (param, est), val in row.iteritems():\n",
    "        row_dict[param] = row_dict.get(param, {})\n",
    "        row_dict[param][est] = val\n",
    "    param_fits_row = {}\n",
    "    for param, estvals in row_dict.items():\n",
    "        if param in ['loglikelihood', 'n_bins']:\n",
    "            continue\n",
    "        param_fits_row[param] = \"{mean:.2f} ({sem:.2f})\".format(**estvals)\n",
    "    param_fits_dict.append(param_fits_row)\n",
    "param_fits_pd = pd.DataFrame(param_fits_dict, \n",
    "                             index=param_fits.index)\n",
    "\n",
    "param_fits_pd[[\"do_discount\", \n",
    "               \"do_randchoose\", \n",
    "               \"do_temp\", \n",
    "               \"show_reward\", \n",
    "               \"show_discount\", \n",
    "               \"show_randchoose\", \n",
    "               \"show_temp\"]].T"
   ]
  },
  {
   "cell_type": "code",
   "execution_count": null,
   "metadata": {},
   "outputs": [],
   "source": [
    "# for_latex = pd.DataFrame(param_fits_dict, index=param_fits.index)\n",
    "# print(\n",
    "#     for_latex[[\"do_discount\", \n",
    "#                \"do_randchoose\", \n",
    "#                \"do_temp\", \n",
    "#                \"show_reward\", \n",
    "#                \"show_discount\", \n",
    "#                \"show_randchoose\", \n",
    "#                \"show_temp\"]].T.to_latex())"
   ]
  },
  {
   "cell_type": "markdown",
   "metadata": {},
   "source": [
    "## Individual parameters"
   ]
  },
  {
   "cell_type": "code",
   "execution_count": 6,
   "metadata": {},
   "outputs": [
    {
     "data": {
      "text/html": [
       "<div>\n",
       "<style scoped>\n",
       "    .dataframe tbody tr th:only-of-type {\n",
       "        vertical-align: middle;\n",
       "    }\n",
       "\n",
       "    .dataframe tbody tr th {\n",
       "        vertical-align: top;\n",
       "    }\n",
       "\n",
       "    .dataframe thead tr th {\n",
       "        text-align: left;\n",
       "    }\n",
       "\n",
       "    .dataframe thead tr:last-of-type th {\n",
       "        text-align: right;\n",
       "    }\n",
       "</style>\n",
       "<table border=\"1\" class=\"dataframe\">\n",
       "  <thead>\n",
       "    <tr>\n",
       "      <th></th>\n",
       "      <th colspan=\"2\" halign=\"left\">do_discount</th>\n",
       "      <th colspan=\"2\" halign=\"left\">do_randchoose</th>\n",
       "      <th colspan=\"2\" halign=\"left\">do_temp</th>\n",
       "      <th colspan=\"2\" halign=\"left\">show_discount</th>\n",
       "      <th colspan=\"2\" halign=\"left\">show_randchoose</th>\n",
       "      <th colspan=\"2\" halign=\"left\">show_reward</th>\n",
       "      <th colspan=\"2\" halign=\"left\">show_temp</th>\n",
       "    </tr>\n",
       "    <tr>\n",
       "      <th></th>\n",
       "      <th>mean</th>\n",
       "      <th>sem</th>\n",
       "      <th>mean</th>\n",
       "      <th>sem</th>\n",
       "      <th>mean</th>\n",
       "      <th>sem</th>\n",
       "      <th>mean</th>\n",
       "      <th>sem</th>\n",
       "      <th>mean</th>\n",
       "      <th>sem</th>\n",
       "      <th>mean</th>\n",
       "      <th>sem</th>\n",
       "      <th>mean</th>\n",
       "      <th>sem</th>\n",
       "    </tr>\n",
       "    <tr>\n",
       "      <th>cond</th>\n",
       "      <th></th>\n",
       "      <th></th>\n",
       "      <th></th>\n",
       "      <th></th>\n",
       "      <th></th>\n",
       "      <th></th>\n",
       "      <th></th>\n",
       "      <th></th>\n",
       "      <th></th>\n",
       "      <th></th>\n",
       "      <th></th>\n",
       "      <th></th>\n",
       "      <th></th>\n",
       "      <th></th>\n",
       "    </tr>\n",
       "  </thead>\n",
       "  <tbody>\n",
       "    <tr>\n",
       "      <td>do</td>\n",
       "      <td>0.955138</td>\n",
       "      <td>0.011620</td>\n",
       "      <td>0.116379</td>\n",
       "      <td>0.015708</td>\n",
       "      <td>2.203448</td>\n",
       "      <td>0.250688</td>\n",
       "      <td>0.934483</td>\n",
       "      <td>0.007064</td>\n",
       "      <td>0.035862</td>\n",
       "      <td>0.011771</td>\n",
       "      <td>2.551724</td>\n",
       "      <td>0.735427</td>\n",
       "      <td>0.148276</td>\n",
       "      <td>0.027192</td>\n",
       "    </tr>\n",
       "    <tr>\n",
       "      <td>show</td>\n",
       "      <td>0.934114</td>\n",
       "      <td>0.012999</td>\n",
       "      <td>0.094828</td>\n",
       "      <td>0.013094</td>\n",
       "      <td>1.637931</td>\n",
       "      <td>0.251616</td>\n",
       "      <td>0.931034</td>\n",
       "      <td>0.008601</td>\n",
       "      <td>0.052069</td>\n",
       "      <td>0.011179</td>\n",
       "      <td>5.310345</td>\n",
       "      <td>1.346500</td>\n",
       "      <td>0.217586</td>\n",
       "      <td>0.042838</td>\n",
       "    </tr>\n",
       "  </tbody>\n",
       "</table>\n",
       "</div>"
      ],
      "text/plain": [
       "     do_discount           do_randchoose             do_temp            \\\n",
       "            mean       sem          mean       sem      mean       sem   \n",
       "cond                                                                     \n",
       "do      0.955138  0.011620      0.116379  0.015708  2.203448  0.250688   \n",
       "show    0.934114  0.012999      0.094828  0.013094  1.637931  0.251616   \n",
       "\n",
       "     show_discount           show_randchoose           show_reward            \\\n",
       "              mean       sem            mean       sem        mean       sem   \n",
       "cond                                                                           \n",
       "do        0.934483  0.007064        0.035862  0.011771    2.551724  0.735427   \n",
       "show      0.931034  0.008601        0.052069  0.011179    5.310345  1.346500   \n",
       "\n",
       "     show_temp            \n",
       "          mean       sem  \n",
       "cond                      \n",
       "do    0.148276  0.027192  \n",
       "show  0.217586  0.042838  "
      ]
     },
     "execution_count": 6,
     "metadata": {},
     "output_type": "execute_result"
    }
   ],
   "source": [
    "obmdp_pfits.groupby('cond')[['do_discount', 'do_randchoose', 'do_temp', 'show_discount', 'show_randchoose', 'show_reward', 'show_temp']].agg(['mean', 'sem'])"
   ]
  },
  {
   "cell_type": "code",
   "execution_count": 8,
   "metadata": {},
   "outputs": [
    {
     "data": {
      "text/html": [
       "<div>\n",
       "<style scoped>\n",
       "    .dataframe tbody tr th:only-of-type {\n",
       "        vertical-align: middle;\n",
       "    }\n",
       "\n",
       "    .dataframe tbody tr th {\n",
       "        vertical-align: top;\n",
       "    }\n",
       "\n",
       "    .dataframe thead th {\n",
       "        text-align: right;\n",
       "    }\n",
       "</style>\n",
       "<table border=\"1\" class=\"dataframe\">\n",
       "  <thead>\n",
       "    <tr style=\"text-align: right;\">\n",
       "      <th></th>\n",
       "      <th>do_discount</th>\n",
       "      <th>do_randchoose</th>\n",
       "      <th>do_temp</th>\n",
       "      <th>show_discount</th>\n",
       "      <th>show_randchoose</th>\n",
       "      <th>show_reward</th>\n",
       "      <th>show_temp</th>\n",
       "    </tr>\n",
       "  </thead>\n",
       "  <tbody>\n",
       "    <tr>\n",
       "      <td>do_discount</td>\n",
       "      <td>1.000000</td>\n",
       "      <td>0.275674</td>\n",
       "      <td>0.141517</td>\n",
       "      <td>0.036047</td>\n",
       "      <td>-0.080796</td>\n",
       "      <td>0.164892</td>\n",
       "      <td>-0.099574</td>\n",
       "    </tr>\n",
       "    <tr>\n",
       "      <td>do_randchoose</td>\n",
       "      <td>0.275674</td>\n",
       "      <td>1.000000</td>\n",
       "      <td>0.178742</td>\n",
       "      <td>0.206728</td>\n",
       "      <td>0.019437</td>\n",
       "      <td>0.296616</td>\n",
       "      <td>0.049701</td>\n",
       "    </tr>\n",
       "    <tr>\n",
       "      <td>do_temp</td>\n",
       "      <td>0.141517</td>\n",
       "      <td>0.178742</td>\n",
       "      <td>1.000000</td>\n",
       "      <td>0.339082</td>\n",
       "      <td>-0.240488</td>\n",
       "      <td>0.501110</td>\n",
       "      <td>-0.104010</td>\n",
       "    </tr>\n",
       "    <tr>\n",
       "      <td>show_discount</td>\n",
       "      <td>0.036047</td>\n",
       "      <td>0.206728</td>\n",
       "      <td>0.339082</td>\n",
       "      <td>1.000000</td>\n",
       "      <td>-0.287702</td>\n",
       "      <td>-0.189209</td>\n",
       "      <td>-0.300243</td>\n",
       "    </tr>\n",
       "    <tr>\n",
       "      <td>show_randchoose</td>\n",
       "      <td>-0.080796</td>\n",
       "      <td>0.019437</td>\n",
       "      <td>-0.240488</td>\n",
       "      <td>-0.287702</td>\n",
       "      <td>1.000000</td>\n",
       "      <td>-0.059612</td>\n",
       "      <td>-0.326737</td>\n",
       "    </tr>\n",
       "    <tr>\n",
       "      <td>show_reward</td>\n",
       "      <td>0.164892</td>\n",
       "      <td>0.296616</td>\n",
       "      <td>0.501110</td>\n",
       "      <td>-0.189209</td>\n",
       "      <td>-0.059612</td>\n",
       "      <td>1.000000</td>\n",
       "      <td>0.126644</td>\n",
       "    </tr>\n",
       "    <tr>\n",
       "      <td>show_temp</td>\n",
       "      <td>-0.099574</td>\n",
       "      <td>0.049701</td>\n",
       "      <td>-0.104010</td>\n",
       "      <td>-0.300243</td>\n",
       "      <td>-0.326737</td>\n",
       "      <td>0.126644</td>\n",
       "      <td>1.000000</td>\n",
       "    </tr>\n",
       "  </tbody>\n",
       "</table>\n",
       "</div>"
      ],
      "text/plain": [
       "                 do_discount  do_randchoose   do_temp  show_discount  \\\n",
       "do_discount         1.000000       0.275674  0.141517       0.036047   \n",
       "do_randchoose       0.275674       1.000000  0.178742       0.206728   \n",
       "do_temp             0.141517       0.178742  1.000000       0.339082   \n",
       "show_discount       0.036047       0.206728  0.339082       1.000000   \n",
       "show_randchoose    -0.080796       0.019437 -0.240488      -0.287702   \n",
       "show_reward         0.164892       0.296616  0.501110      -0.189209   \n",
       "show_temp          -0.099574       0.049701 -0.104010      -0.300243   \n",
       "\n",
       "                 show_randchoose  show_reward  show_temp  \n",
       "do_discount            -0.080796     0.164892  -0.099574  \n",
       "do_randchoose           0.019437     0.296616   0.049701  \n",
       "do_temp                -0.240488     0.501110  -0.104010  \n",
       "show_discount          -0.287702    -0.189209  -0.300243  \n",
       "show_randchoose         1.000000    -0.059612  -0.326737  \n",
       "show_reward            -0.059612     1.000000   0.126644  \n",
       "show_temp              -0.326737     0.126644   1.000000  "
      ]
     },
     "execution_count": 8,
     "metadata": {},
     "output_type": "execute_result"
    }
   ],
   "source": [
    "obmdp_pfits[obmdp_pfits['cond'] == 'show']\\\n",
    "    [['do_discount', 'do_randchoose', 'do_temp', 'show_discount', 'show_randchoose', 'show_reward', 'show_temp']].\\\n",
    "    corr()"
   ]
  },
  {
   "cell_type": "code",
   "execution_count": 14,
   "metadata": {},
   "outputs": [
    {
     "data": {
      "text/plain": [
       "(0.5011099033165425, 0.005621793916559361)"
      ]
     },
     "execution_count": 14,
     "metadata": {},
     "output_type": "execute_result"
    }
   ],
   "source": [
    "from scipy.stats import pearsonr\n",
    "showfits = obmdp_pfits[obmdp_pfits['cond'] == 'show']\n",
    "pearsonr(showfits['show_reward'], showfits['do_temp'])"
   ]
  }
 ],
 "metadata": {
  "kernelspec": {
   "display_name": "Python 3",
   "language": "python",
   "name": "python3"
  },
  "language_info": {
   "codemirror_mode": {
    "name": "ipython",
    "version": 3
   },
   "file_extension": ".py",
   "mimetype": "text/x-python",
   "name": "python",
   "nbconvert_exporter": "python",
   "pygments_lexer": "ipython3",
   "version": "3.7.4"
  }
 },
 "nbformat": 4,
 "nbformat_minor": 4
}
