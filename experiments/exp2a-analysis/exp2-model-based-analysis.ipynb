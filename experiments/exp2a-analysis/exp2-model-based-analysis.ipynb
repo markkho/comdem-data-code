{
 "cells": [
  {
   "cell_type": "code",
   "execution_count": 1,
   "metadata": {},
   "outputs": [],
   "source": [
    "import sys, os\n",
    "import random\n",
    "\n",
    "import seaborn as sns\n",
    "import pandas as pd\n",
    "import numpy as np\n",
    "import scipy.stats\n",
    "\n",
    "import matplotlib.pyplot as plt"
   ]
  },
  {
   "cell_type": "code",
   "execution_count": 2,
   "metadata": {},
   "outputs": [],
   "source": [
    "standard_pfits = pd.read_pickle('./gridsearch-results/standard-participant_fits.pd.pkl')\n",
    "obmdp_pfits = pd.read_pickle('./gridsearch-results/obmdp-participant_fits.pd.pkl')"
   ]
  },
  {
   "cell_type": "code",
   "execution_count": 3,
   "metadata": {},
   "outputs": [],
   "source": [
    "exp_trials = pd.read_pickle('../data/exp2-demon_trajs.pd.pkl')\n",
    "exp_trials['traj_len'] = exp_trials['traj'].apply(lambda t: len(t))"
   ]
  },
  {
   "cell_type": "code",
   "execution_count": 4,
   "metadata": {},
   "outputs": [],
   "source": [
    "p_datapointcounts = exp_trials.groupby('participant').\\\n",
    "    apply(lambda rs: sum([len(r['traj']) for _, r in rs.iterrows()]))\n",
    "p_datapointcounts = pd.DataFrame({\n",
    "    'participant':p_datapointcounts.index, \n",
    "    'datapoint_count':p_datapointcounts.values\n",
    "})"
   ]
  },
  {
   "cell_type": "code",
   "execution_count": 5,
   "metadata": {},
   "outputs": [],
   "source": [
    "sns.set_palette(sns.color_palette([\n",
    "    '#0072b2', '#009e73','#d55e00',  '#cc79a7', '#f0e442', '#56b4e9'\n",
    "]))"
   ]
  },
  {
   "cell_type": "code",
   "execution_count": null,
   "metadata": {},
   "outputs": [],
   "source": []
  },
  {
   "cell_type": "markdown",
   "metadata": {},
   "source": [
    "# Condition-wise tests"
   ]
  },
  {
   "cell_type": "code",
   "execution_count": 6,
   "metadata": {},
   "outputs": [],
   "source": [
    "pfits_comparison = \\\n",
    "    obmdp_pfits[['cond', 'participant', 'loglikelihood']].\\\n",
    "    merge(\n",
    "        standard_pfits, on='participant', \n",
    "        suffixes=('_obmdp', '_standard')\n",
    "    ).merge(\n",
    "        p_datapointcounts, on='participant')\n",
    "\n",
    "cond_steps = exp_trials.groupby(['cond', 'participant'])\\\n",
    "    ['traj_len'].sum().reset_index()\n",
    "cond_steps = cond_steps.rename(columns={'traj_len': 'n_steps'})\n",
    "pfits_comparison = pfits_comparison.merge(cond_steps,\n",
    "                                          on=['cond', 'participant'])"
   ]
  },
  {
   "cell_type": "markdown",
   "metadata": {},
   "source": [
    "## Log-likelihood ratio test"
   ]
  },
  {
   "cell_type": "code",
   "execution_count": 7,
   "metadata": {},
   "outputs": [],
   "source": [
    "def calc_chi2_pval(LLR_test_stat, df):\n",
    "    return scipy.stats.chi2.sf(x=LLR_test_stat, df=df)"
   ]
  },
  {
   "cell_type": "code",
   "execution_count": 8,
   "metadata": {},
   "outputs": [
    {
     "data": {
      "text/html": [
       "<div>\n",
       "<style scoped>\n",
       "    .dataframe tbody tr th:only-of-type {\n",
       "        vertical-align: middle;\n",
       "    }\n",
       "\n",
       "    .dataframe tbody tr th {\n",
       "        vertical-align: top;\n",
       "    }\n",
       "\n",
       "    .dataframe thead th {\n",
       "        text-align: right;\n",
       "    }\n",
       "</style>\n",
       "<table border=\"1\" class=\"dataframe\">\n",
       "  <thead>\n",
       "    <tr style=\"text-align: right;\">\n",
       "      <th></th>\n",
       "      <th>loglikelihood_obmdp</th>\n",
       "      <th>loglikelihood_standard</th>\n",
       "      <th>df_diff</th>\n",
       "      <th>LLR_test_stat</th>\n",
       "      <th>p_value</th>\n",
       "    </tr>\n",
       "    <tr>\n",
       "      <th>cond</th>\n",
       "      <th></th>\n",
       "      <th></th>\n",
       "      <th></th>\n",
       "      <th></th>\n",
       "      <th></th>\n",
       "    </tr>\n",
       "  </thead>\n",
       "  <tbody>\n",
       "    <tr>\n",
       "      <th>do</th>\n",
       "      <td>-912.742171</td>\n",
       "      <td>-999.874956</td>\n",
       "      <td>117</td>\n",
       "      <td>174.265569</td>\n",
       "      <td>4.735466e-04</td>\n",
       "    </tr>\n",
       "    <tr>\n",
       "      <th>show</th>\n",
       "      <td>-3344.269078</td>\n",
       "      <td>-4008.389581</td>\n",
       "      <td>123</td>\n",
       "      <td>1328.241005</td>\n",
       "      <td>3.560643e-201</td>\n",
       "    </tr>\n",
       "  </tbody>\n",
       "</table>\n",
       "</div>"
      ],
      "text/plain": [
       "      loglikelihood_obmdp  loglikelihood_standard  df_diff  LLR_test_stat  \\\n",
       "cond                                                                        \n",
       "do            -912.742171             -999.874956      117     174.265569   \n",
       "show         -3344.269078            -4008.389581      123    1328.241005   \n",
       "\n",
       "            p_value  \n",
       "cond                 \n",
       "do     4.735466e-04  \n",
       "show  3.560643e-201  "
      ]
     },
     "execution_count": 8,
     "metadata": {},
     "output_type": "execute_result"
    }
   ],
   "source": [
    "pfits_comparison['obmdp_df'] = 7\n",
    "pfits_comparison['standard_df'] = 4\n",
    "pfits_comparison['df_diff'] = \\\n",
    "    pfits_comparison['obmdp_df'] - pfits_comparison['standard_df']\n",
    "\n",
    "    \n",
    "cond_loglike = pfits_comparison.groupby('cond')\\\n",
    "    [['loglikelihood_obmdp', 'loglikelihood_standard', \n",
    "      'n_steps', 'obmdp_df', 'standard_df', 'df_diff']].sum()\n",
    "\n",
    "cond_loglike['LLR_test_stat'] = \\\n",
    "    2*(cond_loglike['loglikelihood_obmdp'] \n",
    "       - cond_loglike['loglikelihood_standard'])\n",
    "\n",
    "cond_loglike['p_value'] = cond_loglike.apply(\n",
    "    lambda r: calc_chi2_pval(r['LLR_test_stat'], r['df_diff']), \n",
    "    axis=1)\n",
    "cond_loglike[['loglikelihood_obmdp', \n",
    "              'loglikelihood_standard',\n",
    "              'df_diff',\n",
    "              'LLR_test_stat',\n",
    "              'p_value']]"
   ]
  },
  {
   "cell_type": "markdown",
   "metadata": {},
   "source": [
    "### Bootstrap technique"
   ]
  },
  {
   "cell_type": "code",
   "execution_count": 10,
   "metadata": {},
   "outputs": [
    {
     "data": {
      "text/html": [
       "<div>\n",
       "<style scoped>\n",
       "    .dataframe tbody tr th:only-of-type {\n",
       "        vertical-align: middle;\n",
       "    }\n",
       "\n",
       "    .dataframe tbody tr th {\n",
       "        vertical-align: top;\n",
       "    }\n",
       "\n",
       "    .dataframe thead th {\n",
       "        text-align: right;\n",
       "    }\n",
       "</style>\n",
       "<table border=\"1\" class=\"dataframe\">\n",
       "  <thead>\n",
       "    <tr style=\"text-align: right;\">\n",
       "      <th></th>\n",
       "      <th>mean</th>\n",
       "      <th>std</th>\n",
       "    </tr>\n",
       "    <tr>\n",
       "      <th>cond</th>\n",
       "      <th></th>\n",
       "      <th></th>\n",
       "    </tr>\n",
       "  </thead>\n",
       "  <tbody>\n",
       "    <tr>\n",
       "      <th>do</th>\n",
       "      <td>4.468348</td>\n",
       "      <td>6.389740</td>\n",
       "    </tr>\n",
       "    <tr>\n",
       "      <th>show</th>\n",
       "      <td>32.396122</td>\n",
       "      <td>26.897527</td>\n",
       "    </tr>\n",
       "  </tbody>\n",
       "</table>\n",
       "</div>"
      ],
      "text/plain": [
       "           mean        std\n",
       "cond                      \n",
       "do     4.468348   6.389740\n",
       "show  32.396122  26.897527"
      ]
     },
     "execution_count": 10,
     "metadata": {},
     "output_type": "execute_result"
    }
   ],
   "source": [
    "pfits_comparison['LLR_test_stat'] = \\\n",
    "    2*(pfits_comparison['loglikelihood_obmdp'] - \n",
    "       pfits_comparison['loglikelihood_standard'])\n",
    "\n",
    "# randomly re-label the samples\n",
    "# and calculate the new difference in means\n",
    "def gen_reordered_sample(pooled, size1, size2):\n",
    "    np.random.shuffle(pooled)\n",
    "    new1 = pooled[:size1]\n",
    "    new2 = pooled[-size2:]\n",
    "    return new1.mean() - new2.mean()\n",
    "\n",
    "pooled = pfits_comparison['LLR_test_stat'].copy()\n",
    "counts = tuple(pfits_comparison.groupby('cond')['participant'].count())\n",
    "\n",
    "np.random.seed(1234)\n",
    "n_samples = 10000\n",
    "estimates = [gen_reordered_sample(pooled, *counts) for _ in range(n_samples)]\n",
    "estimates = np.array(estimates)\n",
    "\n",
    "pfits_comparison.groupby('cond')['LLR_test_stat'].aggregate(['mean', 'std'])"
   ]
  },
  {
   "cell_type": "code",
   "execution_count": 11,
   "metadata": {},
   "outputs": [
    {
     "name": "stdout",
     "output_type": "stream",
     "text": [
      "cond\n",
      "do       4.468348\n",
      "show    32.396122\n",
      "Name: LLR_test_stat, dtype: float64\n",
      "-27.92777413622631\n",
      "9.999000099990002e-05\n"
     ]
    }
   ],
   "source": [
    "mean_LLR_test_stats = pfits_comparison.groupby('cond')['LLR_test_stat'].mean()\n",
    "mean_diff = mean_LLR_test_stats['do'] - mean_LLR_test_stats['show']\n",
    "print(mean_LLR_test_stats)\n",
    "print(mean_diff)\n",
    "print(((estimates < mean_diff).sum() + 1)/(len(estimates) + 1))"
   ]
  },
  {
   "cell_type": "code",
   "execution_count": 12,
   "metadata": {},
   "outputs": [
    {
     "data": {
      "image/png": "[encoded data removed]",
      "text/plain": [
       "<matplotlib.figure.Figure at 0x1a14638080>"
      ]
     },
     "metadata": {
      "needs_background": "light"
     },
     "output_type": "display_data"
    }
   ],
   "source": [
    "ax = sns.distplot(estimates)"
   ]
  },
  {
   "cell_type": "code",
   "execution_count": 13,
   "metadata": {},
   "outputs": [
    {
     "data": {
      "image/png": "[encoded data removed]",
      "text/plain": [
       "<matplotlib.figure.Figure at 0x1a1fd7e588>"
      ]
     },
     "metadata": {
      "needs_background": "light"
     },
     "output_type": "display_data"
    }
   ],
   "source": [
    "fig, ax = plt.subplots(figsize=(8, 5))\n",
    "ax = sns.swarmplot(\n",
    "    ax=ax,\n",
    "    data=pfits_comparison,\n",
    "    y='LLR_test_stat',\n",
    "    x='cond',\n",
    "    color=\"black\",\n",
    "    edgecolor=\"white\",\n",
    "    size=7,\n",
    "    order=[\"do\", \"show\"]\n",
    ")\n",
    "sns.boxplot(\n",
    "    ax=ax,\n",
    "    data=pfits_comparison,\n",
    "    y='LLR_test_stat',\n",
    "    x='cond',\n",
    "    order=[\"do\", \"show\"]\n",
    ")\n",
    "ax.set_ylabel(\"Log-likelihood\\nRatio\\nTest\\nStatistic\", \n",
    "              fontsize=20,\n",
    "              family='serif',\n",
    "              rotation=0, \n",
    "              labelpad=80,\n",
    "              va='center')\n",
    "plt.setp(ax.get_yticklabels(), \n",
    "         fontsize=14, family='serif')\n",
    "_ = ax.set_xticklabels([\"Do\", \"Show\"],\n",
    "                       fontsize=17, family='serif')\n",
    "_ = ax.set_xlabel(\"Experimental\\nCondition\",\n",
    "                  fontsize=20, family='serif')\n",
    "plt.tight_layout()\n",
    "\n",
    "colors = [\"#92C5DE\", \"#4DAC26\"]\n",
    "for color, box in zip(colors, ax.artists):\n",
    "    box.set_facecolor(color)\n",
    "    \n",
    "plt.savefig('./_figures/condition_teststats.eps')"
   ]
  },
  {
   "cell_type": "code",
   "execution_count": 16,
   "metadata": {},
   "outputs": [
    {
     "data": {
      "text/html": [
       "<div>\n",
       "<style scoped>\n",
       "    .dataframe tbody tr th:only-of-type {\n",
       "        vertical-align: middle;\n",
       "    }\n",
       "\n",
       "    .dataframe tbody tr th {\n",
       "        vertical-align: top;\n",
       "    }\n",
       "\n",
       "    .dataframe thead th {\n",
       "        text-align: right;\n",
       "    }\n",
       "</style>\n",
       "<table border=\"1\" class=\"dataframe\">\n",
       "  <thead>\n",
       "    <tr style=\"text-align: right;\">\n",
       "      <th></th>\n",
       "      <th>0</th>\n",
       "      <th>1</th>\n",
       "    </tr>\n",
       "  </thead>\n",
       "  <tbody>\n",
       "    <tr>\n",
       "      <th>do_discount</th>\n",
       "      <td>0.58 (0.05)</td>\n",
       "      <td>0.78 (0.05)</td>\n",
       "    </tr>\n",
       "    <tr>\n",
       "      <th>do_randchoose</th>\n",
       "      <td>0.25 (0.03)</td>\n",
       "      <td>0.24 (0.03)</td>\n",
       "    </tr>\n",
       "    <tr>\n",
       "      <th>do_temp</th>\n",
       "      <td>0.83 (0.27)</td>\n",
       "      <td>1.11 (0.28)</td>\n",
       "    </tr>\n",
       "    <tr>\n",
       "      <th>show_reward</th>\n",
       "      <td>1.49 (0.33)</td>\n",
       "      <td>5.68 (0.78)</td>\n",
       "    </tr>\n",
       "    <tr>\n",
       "      <th>show_discount</th>\n",
       "      <td>0.84 (0.04)</td>\n",
       "      <td>0.76 (0.04)</td>\n",
       "    </tr>\n",
       "    <tr>\n",
       "      <th>show_randchoose</th>\n",
       "      <td>0.03 (0.01)</td>\n",
       "      <td>0.18 (0.02)</td>\n",
       "    </tr>\n",
       "    <tr>\n",
       "      <th>show_temp</th>\n",
       "      <td>0.05 (0.01)</td>\n",
       "      <td>0.08 (0.01)</td>\n",
       "    </tr>\n",
       "  </tbody>\n",
       "</table>\n",
       "</div>"
      ],
      "text/plain": [
       "                           0            1\n",
       "do_discount      0.58 (0.05)  0.78 (0.05)\n",
       "do_randchoose    0.25 (0.03)  0.24 (0.03)\n",
       "do_temp          0.83 (0.27)  1.11 (0.28)\n",
       "show_reward      1.49 (0.33)  5.68 (0.78)\n",
       "show_discount    0.84 (0.04)  0.76 (0.04)\n",
       "show_randchoose  0.03 (0.01)  0.18 (0.02)\n",
       "show_temp        0.05 (0.01)  0.08 (0.01)"
      ]
     },
     "execution_count": 16,
     "metadata": {},
     "output_type": "execute_result"
    }
   ],
   "source": [
    "param_fits = obmdp_pfits.groupby('cond').agg(['median', 'mean', 'sem'])\n",
    "param_fits_dict = []\n",
    "for cond, row in param_fits.iterrows():\n",
    "    row_dict = {}\n",
    "    for (param, est), val in row.iteritems():\n",
    "        row_dict[param] = row_dict.get(param, {})\n",
    "        row_dict[param][est] = val\n",
    "    param_fits_row = {}\n",
    "    for param, estvals in row_dict.items():\n",
    "        param_fits_row[param] = \"{mean:.2f} ({sem:.2f})\".format(**estvals)\n",
    "    param_fits_dict.append(param_fits_row)\n",
    "    \n",
    "param_fits_pd = pd.DataFrame(param_fits_dict)\n",
    "\n",
    "param_fits_pd[[\"do_discount\", \n",
    "               \"do_randchoose\", \n",
    "               \"do_temp\", \n",
    "               \"show_reward\", \n",
    "               \"show_discount\", \n",
    "               \"show_randchoose\", \n",
    "               \"show_temp\"]].T\n"
   ]
  },
  {
   "cell_type": "code",
   "execution_count": 18,
   "metadata": {},
   "outputs": [
    {
     "name": "stdout",
     "output_type": "stream",
     "text": [
      "\\begin{tabular}{lll}\n",
      "\\toprule\n",
      "cond &           do &         show \\\\\n",
      "\\midrule\n",
      "do\\_discount     &  0.58 (0.05) &  0.78 (0.05) \\\\\n",
      "do\\_randchoose   &  0.25 (0.03) &  0.24 (0.03) \\\\\n",
      "do\\_temp         &  0.83 (0.27) &  1.11 (0.28) \\\\\n",
      "show\\_reward     &  1.49 (0.33) &  5.68 (0.78) \\\\\n",
      "show\\_discount   &  0.84 (0.04) &  0.76 (0.04) \\\\\n",
      "show\\_randchoose &  0.03 (0.01) &  0.18 (0.02) \\\\\n",
      "show\\_temp       &  0.05 (0.01) &  0.08 (0.01) \\\\\n",
      "\\bottomrule\n",
      "\\end{tabular}\n",
      "\n"
     ]
    }
   ],
   "source": [
    "for_latex = pd.DataFrame(param_fits_dict, index=param_fits.index)\n",
    "print(\n",
    "    for_latex[[\"do_discount\", \n",
    "               \"do_randchoose\", \n",
    "               \"do_temp\", \n",
    "               \"show_reward\", \n",
    "               \"show_discount\", \n",
    "               \"show_randchoose\", \n",
    "               \"show_temp\"]].T.to_latex())"
   ]
  },
  {
   "cell_type": "markdown",
   "metadata": {},
   "source": [
    "## Individual parameters"
   ]
  },
  {
   "cell_type": "code",
   "execution_count": 9,
   "metadata": {},
   "outputs": [],
   "source": [
    "import seaborn as sns"
   ]
  },
  {
   "cell_type": "code",
   "execution_count": 18,
   "metadata": {},
   "outputs": [
    {
     "data": {
      "text/html": [
       "<div>\n",
       "<style scoped>\n",
       "    .dataframe tbody tr th:only-of-type {\n",
       "        vertical-align: middle;\n",
       "    }\n",
       "\n",
       "    .dataframe tbody tr th {\n",
       "        vertical-align: top;\n",
       "    }\n",
       "\n",
       "    .dataframe thead tr th {\n",
       "        text-align: left;\n",
       "    }\n",
       "\n",
       "    .dataframe thead tr:last-of-type th {\n",
       "        text-align: right;\n",
       "    }\n",
       "</style>\n",
       "<table border=\"1\" class=\"dataframe\">\n",
       "  <thead>\n",
       "    <tr>\n",
       "      <th></th>\n",
       "      <th colspan=\"2\" halign=\"left\">do_discount</th>\n",
       "      <th colspan=\"2\" halign=\"left\">do_randchoose</th>\n",
       "      <th colspan=\"2\" halign=\"left\">do_temp</th>\n",
       "      <th colspan=\"2\" halign=\"left\">show_discount</th>\n",
       "      <th colspan=\"2\" halign=\"left\">show_randchoose</th>\n",
       "      <th colspan=\"2\" halign=\"left\">show_reward</th>\n",
       "      <th colspan=\"2\" halign=\"left\">show_temp</th>\n",
       "    </tr>\n",
       "    <tr>\n",
       "      <th></th>\n",
       "      <th>mean</th>\n",
       "      <th>sem</th>\n",
       "      <th>mean</th>\n",
       "      <th>sem</th>\n",
       "      <th>mean</th>\n",
       "      <th>sem</th>\n",
       "      <th>mean</th>\n",
       "      <th>sem</th>\n",
       "      <th>mean</th>\n",
       "      <th>sem</th>\n",
       "      <th>mean</th>\n",
       "      <th>sem</th>\n",
       "      <th>mean</th>\n",
       "      <th>sem</th>\n",
       "    </tr>\n",
       "    <tr>\n",
       "      <th>cond</th>\n",
       "      <th></th>\n",
       "      <th></th>\n",
       "      <th></th>\n",
       "      <th></th>\n",
       "      <th></th>\n",
       "      <th></th>\n",
       "      <th></th>\n",
       "      <th></th>\n",
       "      <th></th>\n",
       "      <th></th>\n",
       "      <th></th>\n",
       "      <th></th>\n",
       "      <th></th>\n",
       "      <th></th>\n",
       "    </tr>\n",
       "  </thead>\n",
       "  <tbody>\n",
       "    <tr>\n",
       "      <td>do</td>\n",
       "      <td>0.582308</td>\n",
       "      <td>0.054437</td>\n",
       "      <td>0.247692</td>\n",
       "      <td>0.029293</td>\n",
       "      <td>0.826923</td>\n",
       "      <td>0.265039</td>\n",
       "      <td>0.837436</td>\n",
       "      <td>0.036169</td>\n",
       "      <td>0.031795</td>\n",
       "      <td>0.006265</td>\n",
       "      <td>1.487179</td>\n",
       "      <td>0.330362</td>\n",
       "      <td>0.047436</td>\n",
       "      <td>0.006860</td>\n",
       "    </tr>\n",
       "    <tr>\n",
       "      <td>show</td>\n",
       "      <td>0.780000</td>\n",
       "      <td>0.050181</td>\n",
       "      <td>0.240976</td>\n",
       "      <td>0.029267</td>\n",
       "      <td>1.106098</td>\n",
       "      <td>0.279078</td>\n",
       "      <td>0.761951</td>\n",
       "      <td>0.039665</td>\n",
       "      <td>0.178537</td>\n",
       "      <td>0.021050</td>\n",
       "      <td>5.682927</td>\n",
       "      <td>0.782771</td>\n",
       "      <td>0.081707</td>\n",
       "      <td>0.013384</td>\n",
       "    </tr>\n",
       "  </tbody>\n",
       "</table>\n",
       "</div>"
      ],
      "text/plain": [
       "     do_discount           do_randchoose             do_temp            \\\n",
       "            mean       sem          mean       sem      mean       sem   \n",
       "cond                                                                     \n",
       "do      0.582308  0.054437      0.247692  0.029293  0.826923  0.265039   \n",
       "show    0.780000  0.050181      0.240976  0.029267  1.106098  0.279078   \n",
       "\n",
       "     show_discount           show_randchoose           show_reward            \\\n",
       "              mean       sem            mean       sem        mean       sem   \n",
       "cond                                                                           \n",
       "do        0.837436  0.036169        0.031795  0.006265    1.487179  0.330362   \n",
       "show      0.761951  0.039665        0.178537  0.021050    5.682927  0.782771   \n",
       "\n",
       "     show_temp            \n",
       "          mean       sem  \n",
       "cond                      \n",
       "do    0.047436  0.006860  \n",
       "show  0.081707  0.013384  "
      ]
     },
     "execution_count": 18,
     "metadata": {},
     "output_type": "execute_result"
    }
   ],
   "source": [
    "obmdp_pfits.groupby('cond')[['do_discount', 'do_randchoose', 'do_temp', 'show_discount', 'show_randchoose', 'show_reward', 'show_temp']].agg(['mean', 'sem'])"
   ]
  }
 ],
 "metadata": {
  "kernelspec": {
   "display_name": "Python 3",
   "language": "python",
   "name": "python3"
  },
  "language_info": {
   "codemirror_mode": {
    "name": "ipython",
    "version": 3
   },
   "file_extension": ".py",
   "mimetype": "text/x-python",
   "name": "python",
   "nbconvert_exporter": "python",
   "pygments_lexer": "ipython3",
   "version": "3.7.4"
  }
 },
 "nbformat": 4,
 "nbformat_minor": 4
}
